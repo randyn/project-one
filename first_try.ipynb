{
 "cells": [
  {
   "cell_type": "code",
   "execution_count": 32,
   "metadata": {},
   "outputs": [],
   "source": [
    "#import dependencies \n",
    "\n",
    "import pandas as pd\n",
    "import numpy as np\n",
    "from matplotlib import pyplot as plt\n",
    "from scipy import stats\n"
   ]
  },
  {
   "cell_type": "code",
   "execution_count": 39,
   "metadata": {},
   "outputs": [
    {
     "data": {
      "text/html": [
       "<div>\n",
       "<style scoped>\n",
       "    .dataframe tbody tr th:only-of-type {\n",
       "        vertical-align: middle;\n",
       "    }\n",
       "\n",
       "    .dataframe tbody tr th {\n",
       "        vertical-align: top;\n",
       "    }\n",
       "\n",
       "    .dataframe thead th {\n",
       "        text-align: right;\n",
       "    }\n",
       "</style>\n",
       "<table border=\"1\" class=\"dataframe\">\n",
       "  <thead>\n",
       "    <tr style=\"text-align: right;\">\n",
       "      <th></th>\n",
       "      <th>Unnamed: 0</th>\n",
       "      <th>Charity</th>\n",
       "      <th>ein</th>\n",
       "      <th>Mission</th>\n",
       "      <th>Cause</th>\n",
       "      <th>Category Name</th>\n",
       "      <th>Rating</th>\n",
       "      <th>State</th>\n",
       "      <th>Contributions</th>\n",
       "    </tr>\n",
       "  </thead>\n",
       "  <tbody>\n",
       "    <tr>\n",
       "      <th>0</th>\n",
       "      <td>0</td>\n",
       "      <td>Mount Desert Island Biological Laboratory</td>\n",
       "      <td>10202467</td>\n",
       "      <td>The MDI Biological Laboratory is a rapidly gro...</td>\n",
       "      <td>{'causeID': 35, 'causeName': 'Non-Medical Scie...</td>\n",
       "      <td>Research and Public Policy</td>\n",
       "      <td>92.61</td>\n",
       "      <td>ME</td>\n",
       "      <td>12924245.0</td>\n",
       "    </tr>\n",
       "    <tr>\n",
       "      <th>1</th>\n",
       "      <td>1</td>\n",
       "      <td>United Way of Eastern Maine</td>\n",
       "      <td>10211478</td>\n",
       "      <td>Working with the communities we serve, the Uni...</td>\n",
       "      <td>{'causeID': 42, 'causeName': 'United Ways', 'c...</td>\n",
       "      <td>Community Development</td>\n",
       "      <td>81.84</td>\n",
       "      <td>ME</td>\n",
       "      <td>2438155.0</td>\n",
       "    </tr>\n",
       "    <tr>\n",
       "      <th>2</th>\n",
       "      <td>2</td>\n",
       "      <td>The Jackson Laboratory</td>\n",
       "      <td>10211513</td>\n",
       "      <td>The Jackson Laboratory, founded in 1929, is an...</td>\n",
       "      <td>{'causeID': 14, 'causeName': 'Medical Research...</td>\n",
       "      <td>Health</td>\n",
       "      <td>93.16</td>\n",
       "      <td>ME</td>\n",
       "      <td>331241336.0</td>\n",
       "    </tr>\n",
       "    <tr>\n",
       "      <th>3</th>\n",
       "      <td>3</td>\n",
       "      <td>Maine Historical Society</td>\n",
       "      <td>10211530</td>\n",
       "      <td>Founded in 1822, the Maine Historical Society ...</td>\n",
       "      <td>{'causeID': 6, 'causeName': 'Libraries, Histor...</td>\n",
       "      <td>Arts, Culture, Humanities</td>\n",
       "      <td>80.31</td>\n",
       "      <td>ME</td>\n",
       "      <td>2219692.0</td>\n",
       "    </tr>\n",
       "    <tr>\n",
       "      <th>4</th>\n",
       "      <td>4</td>\n",
       "      <td>Boys &amp; Girls Clubs of Southern Maine</td>\n",
       "      <td>10211543</td>\n",
       "      <td>For more than 100 years, Boys &amp; Girls Clubs of...</td>\n",
       "      <td>{'causeID': 16, 'causeName': 'Youth Developmen...</td>\n",
       "      <td>Human Services</td>\n",
       "      <td>91.54</td>\n",
       "      <td>ME</td>\n",
       "      <td>3859985.0</td>\n",
       "    </tr>\n",
       "  </tbody>\n",
       "</table>\n",
       "</div>"
      ],
      "text/plain": [
       "   Unnamed: 0                                    Charity       ein  \\\n",
       "0           0  Mount Desert Island Biological Laboratory  10202467   \n",
       "1           1                United Way of Eastern Maine  10211478   \n",
       "2           2                     The Jackson Laboratory  10211513   \n",
       "3           3                   Maine Historical Society  10211530   \n",
       "4           4       Boys & Girls Clubs of Southern Maine  10211543   \n",
       "\n",
       "                                             Mission  \\\n",
       "0  The MDI Biological Laboratory is a rapidly gro...   \n",
       "1  Working with the communities we serve, the Uni...   \n",
       "2  The Jackson Laboratory, founded in 1929, is an...   \n",
       "3  Founded in 1822, the Maine Historical Society ...   \n",
       "4  For more than 100 years, Boys & Girls Clubs of...   \n",
       "\n",
       "                                               Cause  \\\n",
       "0  {'causeID': 35, 'causeName': 'Non-Medical Scie...   \n",
       "1  {'causeID': 42, 'causeName': 'United Ways', 'c...   \n",
       "2  {'causeID': 14, 'causeName': 'Medical Research...   \n",
       "3  {'causeID': 6, 'causeName': 'Libraries, Histor...   \n",
       "4  {'causeID': 16, 'causeName': 'Youth Developmen...   \n",
       "\n",
       "                Category Name  Rating State  Contributions  \n",
       "0  Research and Public Policy   92.61    ME     12924245.0  \n",
       "1       Community Development   81.84    ME      2438155.0  \n",
       "2                      Health   93.16    ME    331241336.0  \n",
       "3   Arts, Culture, Humanities   80.31    ME      2219692.0  \n",
       "4              Human Services   91.54    ME      3859985.0  "
      ]
     },
     "execution_count": 39,
     "metadata": {},
     "output_type": "execute_result"
    }
   ],
   "source": [
    "# Read CSV\n",
    "lin_reg_df = pd.read_csv(\"cleaned_data.csv\")\n",
    "rating = lin_reg.iloc[:,6]\n",
    "lin_reg_df.head()"
   ]
  },
  {
   "cell_type": "code",
   "execution_count": 43,
   "metadata": {},
   "outputs": [
    {
     "name": "stdout",
     "output_type": "stream",
     "text": [
      "<pandas.core.groupby.groupby.SeriesGroupBy object at 0x1a220bc2e8>\n"
     ]
    }
   ],
   "source": [
    "#set axis\n",
    "#ratings = lin_reg_df.groupby(\"Charity\")[\"Rating\"]\n",
    "\n",
    "\n",
    "\n",
    "\n",
    "print(ratings)\n",
    "\n",
    "\n"
   ]
  },
  {
   "cell_type": "code",
   "execution_count": null,
   "metadata": {},
   "outputs": [],
   "source": []
  }
 ],
 "metadata": {
  "kernelspec": {
   "display_name": "Python 3",
   "language": "python",
   "name": "python3"
  },
  "language_info": {
   "codemirror_mode": {
    "name": "ipython",
    "version": 3
   },
   "file_extension": ".py",
   "mimetype": "text/x-python",
   "name": "python",
   "nbconvert_exporter": "python",
   "pygments_lexer": "ipython3",
   "version": "3.6.6"
  }
 },
 "nbformat": 4,
 "nbformat_minor": 2
}
