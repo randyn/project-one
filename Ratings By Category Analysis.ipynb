{
 "cells": [
  {
   "cell_type": "code",
   "execution_count": 63,
   "metadata": {},
   "outputs": [],
   "source": [
    "import pandas as pd\n",
    "import numpy as np\n",
    "from scipy import stats\n",
    "import seaborn as sns"
   ]
  },
  {
   "cell_type": "code",
   "execution_count": 1,
   "metadata": {},
   "outputs": [
    {
     "data": {
      "text/html": [
       "<div>\n",
       "<style scoped>\n",
       "    .dataframe tbody tr th:only-of-type {\n",
       "        vertical-align: middle;\n",
       "    }\n",
       "\n",
       "    .dataframe tbody tr th {\n",
       "        vertical-align: top;\n",
       "    }\n",
       "\n",
       "    .dataframe thead th {\n",
       "        text-align: right;\n",
       "    }\n",
       "</style>\n",
       "<table border=\"1\" class=\"dataframe\">\n",
       "  <thead>\n",
       "    <tr style=\"text-align: right;\">\n",
       "      <th></th>\n",
       "      <th>Unnamed: 0</th>\n",
       "      <th>Charity</th>\n",
       "      <th>ein</th>\n",
       "      <th>Mission</th>\n",
       "      <th>Cause</th>\n",
       "      <th>Category Name</th>\n",
       "      <th>Rating</th>\n",
       "      <th>State</th>\n",
       "      <th>Contributions</th>\n",
       "    </tr>\n",
       "  </thead>\n",
       "  <tbody>\n",
       "    <tr>\n",
       "      <th>0</th>\n",
       "      <td>0</td>\n",
       "      <td>Mount Desert Island Biological Laboratory</td>\n",
       "      <td>10202467</td>\n",
       "      <td>The MDI Biological Laboratory is a rapidly gro...</td>\n",
       "      <td>{'causeID': 35, 'causeName': 'Non-Medical Scie...</td>\n",
       "      <td>Research and Public Policy</td>\n",
       "      <td>92.61</td>\n",
       "      <td>ME</td>\n",
       "      <td>12924245.0</td>\n",
       "    </tr>\n",
       "    <tr>\n",
       "      <th>1</th>\n",
       "      <td>1</td>\n",
       "      <td>United Way of Eastern Maine</td>\n",
       "      <td>10211478</td>\n",
       "      <td>Working with the communities we serve, the Uni...</td>\n",
       "      <td>{'causeID': 42, 'causeName': 'United Ways', 'c...</td>\n",
       "      <td>Community Development</td>\n",
       "      <td>81.84</td>\n",
       "      <td>ME</td>\n",
       "      <td>2438155.0</td>\n",
       "    </tr>\n",
       "    <tr>\n",
       "      <th>2</th>\n",
       "      <td>2</td>\n",
       "      <td>The Jackson Laboratory</td>\n",
       "      <td>10211513</td>\n",
       "      <td>The Jackson Laboratory, founded in 1929, is an...</td>\n",
       "      <td>{'causeID': 14, 'causeName': 'Medical Research...</td>\n",
       "      <td>Health</td>\n",
       "      <td>93.16</td>\n",
       "      <td>ME</td>\n",
       "      <td>331241336.0</td>\n",
       "    </tr>\n",
       "    <tr>\n",
       "      <th>3</th>\n",
       "      <td>3</td>\n",
       "      <td>Maine Historical Society</td>\n",
       "      <td>10211530</td>\n",
       "      <td>Founded in 1822, the Maine Historical Society ...</td>\n",
       "      <td>{'causeID': 6, 'causeName': 'Libraries, Histor...</td>\n",
       "      <td>Arts, Culture, Humanities</td>\n",
       "      <td>80.31</td>\n",
       "      <td>ME</td>\n",
       "      <td>2219692.0</td>\n",
       "    </tr>\n",
       "    <tr>\n",
       "      <th>4</th>\n",
       "      <td>4</td>\n",
       "      <td>Boys &amp; Girls Clubs of Southern Maine</td>\n",
       "      <td>10211543</td>\n",
       "      <td>For more than 100 years, Boys &amp; Girls Clubs of...</td>\n",
       "      <td>{'causeID': 16, 'causeName': 'Youth Developmen...</td>\n",
       "      <td>Human Services</td>\n",
       "      <td>91.54</td>\n",
       "      <td>ME</td>\n",
       "      <td>3859985.0</td>\n",
       "    </tr>\n",
       "  </tbody>\n",
       "</table>\n",
       "</div>"
      ],
      "text/plain": [
       "   Unnamed: 0                                    Charity       ein  \\\n",
       "0           0  Mount Desert Island Biological Laboratory  10202467   \n",
       "1           1                United Way of Eastern Maine  10211478   \n",
       "2           2                     The Jackson Laboratory  10211513   \n",
       "3           3                   Maine Historical Society  10211530   \n",
       "4           4       Boys & Girls Clubs of Southern Maine  10211543   \n",
       "\n",
       "                                             Mission  \\\n",
       "0  The MDI Biological Laboratory is a rapidly gro...   \n",
       "1  Working with the communities we serve, the Uni...   \n",
       "2  The Jackson Laboratory, founded in 1929, is an...   \n",
       "3  Founded in 1822, the Maine Historical Society ...   \n",
       "4  For more than 100 years, Boys & Girls Clubs of...   \n",
       "\n",
       "                                               Cause  \\\n",
       "0  {'causeID': 35, 'causeName': 'Non-Medical Scie...   \n",
       "1  {'causeID': 42, 'causeName': 'United Ways', 'c...   \n",
       "2  {'causeID': 14, 'causeName': 'Medical Research...   \n",
       "3  {'causeID': 6, 'causeName': 'Libraries, Histor...   \n",
       "4  {'causeID': 16, 'causeName': 'Youth Developmen...   \n",
       "\n",
       "                Category Name  Rating State  Contributions  \n",
       "0  Research and Public Policy   92.61    ME     12924245.0  \n",
       "1       Community Development   81.84    ME      2438155.0  \n",
       "2                      Health   93.16    ME    331241336.0  \n",
       "3   Arts, Culture, Humanities   80.31    ME      2219692.0  \n",
       "4              Human Services   91.54    ME      3859985.0  "
      ]
     },
     "execution_count": 1,
     "metadata": {},
     "output_type": "execute_result"
    }
   ],
   "source": [
    "charity_data = \"cleaned_data.csv\"\n",
    "charity_df = pd.read_csv(\"cleaned_data.csv\")\n",
    "charity_df.head()"
   ]
  },
  {
   "cell_type": "code",
   "execution_count": 6,
   "metadata": {},
   "outputs": [
    {
     "data": {
      "text/plain": [
       "['Human Services',\n",
       " 'Arts, Culture, Humanities',\n",
       " 'Health',\n",
       " 'Community Development',\n",
       " 'Education',\n",
       " 'International',\n",
       " 'Animals',\n",
       " 'Religion',\n",
       " 'Environment',\n",
       " 'Human and Civil Rights',\n",
       " 'Research and Public Policy']"
      ]
     },
     "execution_count": 6,
     "metadata": {},
     "output_type": "execute_result"
    }
   ],
   "source": [
    "categories = list(charity_df[\"Category Name\"].value_counts().index)\n",
    "categories"
   ]
  },
  {
   "cell_type": "code",
   "execution_count": 13,
   "metadata": {},
   "outputs": [
    {
     "data": {
      "text/html": [
       "<div>\n",
       "<style scoped>\n",
       "    .dataframe tbody tr th:only-of-type {\n",
       "        vertical-align: middle;\n",
       "    }\n",
       "\n",
       "    .dataframe tbody tr th {\n",
       "        vertical-align: top;\n",
       "    }\n",
       "\n",
       "    .dataframe thead th {\n",
       "        text-align: right;\n",
       "    }\n",
       "</style>\n",
       "<table border=\"1\" class=\"dataframe\">\n",
       "  <thead>\n",
       "    <tr style=\"text-align: right;\">\n",
       "      <th></th>\n",
       "      <th>Unnamed: 0</th>\n",
       "      <th>Charity</th>\n",
       "      <th>ein</th>\n",
       "      <th>Mission</th>\n",
       "      <th>Cause</th>\n",
       "      <th>Category Name</th>\n",
       "      <th>Rating</th>\n",
       "      <th>State</th>\n",
       "      <th>Contributions</th>\n",
       "    </tr>\n",
       "  </thead>\n",
       "  <tbody>\n",
       "    <tr>\n",
       "      <th>3</th>\n",
       "      <td>3</td>\n",
       "      <td>Maine Historical Society</td>\n",
       "      <td>10211530</td>\n",
       "      <td>Founded in 1822, the Maine Historical Society ...</td>\n",
       "      <td>{'causeID': 6, 'causeName': 'Libraries, Histor...</td>\n",
       "      <td>Arts, Culture, Humanities</td>\n",
       "      <td>80.31</td>\n",
       "      <td>ME</td>\n",
       "      <td>2219692.0</td>\n",
       "    </tr>\n",
       "    <tr>\n",
       "      <th>15</th>\n",
       "      <td>15</td>\n",
       "      <td>Maine Maritime Museum</td>\n",
       "      <td>10271477</td>\n",
       "      <td>Maine Maritime Museum celebrates Maine's marit...</td>\n",
       "      <td>{'causeID': 3, 'causeName': 'Museums', 'charit...</td>\n",
       "      <td>Arts, Culture, Humanities</td>\n",
       "      <td>86.31</td>\n",
       "      <td>ME</td>\n",
       "      <td>4538187.0</td>\n",
       "    </tr>\n",
       "    <tr>\n",
       "      <th>18</th>\n",
       "      <td>18</td>\n",
       "      <td>Children's Museum &amp; Theatre of Maine</td>\n",
       "      <td>10352258</td>\n",
       "      <td>The Children's Museum &amp; Theatre of Maine exist...</td>\n",
       "      <td>{'causeID': 3, 'causeName': 'Museums', 'charit...</td>\n",
       "      <td>Arts, Culture, Humanities</td>\n",
       "      <td>78.06</td>\n",
       "      <td>ME</td>\n",
       "      <td>2943913.0</td>\n",
       "    </tr>\n",
       "    <tr>\n",
       "      <th>20</th>\n",
       "      <td>20</td>\n",
       "      <td>Farnsworth Art Museum</td>\n",
       "      <td>10368070</td>\n",
       "      <td>Celebrating Maine's role in American art, the ...</td>\n",
       "      <td>{'causeID': 3, 'causeName': 'Museums', 'charit...</td>\n",
       "      <td>Arts, Culture, Humanities</td>\n",
       "      <td>80.68</td>\n",
       "      <td>ME</td>\n",
       "      <td>6804518.0</td>\n",
       "    </tr>\n",
       "    <tr>\n",
       "      <th>21</th>\n",
       "      <td>21</td>\n",
       "      <td>Portland Museum of Art</td>\n",
       "      <td>10378420</td>\n",
       "      <td>The Portland Museum of Art strives to engage a...</td>\n",
       "      <td>{'causeID': 3, 'causeName': 'Museums', 'charit...</td>\n",
       "      <td>Arts, Culture, Humanities</td>\n",
       "      <td>83.24</td>\n",
       "      <td>ME</td>\n",
       "      <td>11722533.0</td>\n",
       "    </tr>\n",
       "  </tbody>\n",
       "</table>\n",
       "</div>"
      ],
      "text/plain": [
       "    Unnamed: 0                               Charity       ein  \\\n",
       "3            3              Maine Historical Society  10211530   \n",
       "15          15                 Maine Maritime Museum  10271477   \n",
       "18          18  Children's Museum & Theatre of Maine  10352258   \n",
       "20          20                 Farnsworth Art Museum  10368070   \n",
       "21          21                Portland Museum of Art  10378420   \n",
       "\n",
       "                                              Mission  \\\n",
       "3   Founded in 1822, the Maine Historical Society ...   \n",
       "15  Maine Maritime Museum celebrates Maine's marit...   \n",
       "18  The Children's Museum & Theatre of Maine exist...   \n",
       "20  Celebrating Maine's role in American art, the ...   \n",
       "21  The Portland Museum of Art strives to engage a...   \n",
       "\n",
       "                                                Cause  \\\n",
       "3   {'causeID': 6, 'causeName': 'Libraries, Histor...   \n",
       "15  {'causeID': 3, 'causeName': 'Museums', 'charit...   \n",
       "18  {'causeID': 3, 'causeName': 'Museums', 'charit...   \n",
       "20  {'causeID': 3, 'causeName': 'Museums', 'charit...   \n",
       "21  {'causeID': 3, 'causeName': 'Museums', 'charit...   \n",
       "\n",
       "                Category Name  Rating State  Contributions  \n",
       "3   Arts, Culture, Humanities   80.31    ME      2219692.0  \n",
       "15  Arts, Culture, Humanities   86.31    ME      4538187.0  \n",
       "18  Arts, Culture, Humanities   78.06    ME      2943913.0  \n",
       "20  Arts, Culture, Humanities   80.68    ME      6804518.0  \n",
       "21  Arts, Culture, Humanities   83.24    ME     11722533.0  "
      ]
     },
     "execution_count": 13,
     "metadata": {},
     "output_type": "execute_result"
    }
   ],
   "source": [
    "charities_data_by_category = [charity_df[charity_df[\"Category Name\"] == category] for category in categories]\n",
    "charities_data_by_category[1].head()"
   ]
  },
  {
   "cell_type": "code",
   "execution_count": 19,
   "metadata": {},
   "outputs": [],
   "source": [
    "ratings_by_category = [charity_data[\"Rating\"] for charity_data in charities_data_by_category]\n"
   ]
  },
  {
   "cell_type": "code",
   "execution_count": 34,
   "metadata": {},
   "outputs": [
    {
     "data": {
      "text/plain": [
       "{'Human Services': 87.63863110008272,\n",
       " 'Arts, Culture, Humanities': 85.18424735557363,\n",
       " 'Health': 85.56977678571427,\n",
       " 'Community Development': 88.73679900744415,\n",
       " 'Education': 86.4894578313253,\n",
       " 'International': 87.31864,\n",
       " 'Animals': 87.91016632016631,\n",
       " 'Religion': 80.53586206896551,\n",
       " 'Environment': 87.88359728506788,\n",
       " 'Human and Civil Rights': 85.64879120879121,\n",
       " 'Research and Public Policy': 84.96560185185184}"
      ]
     },
     "execution_count": 34,
     "metadata": {},
     "output_type": "execute_result"
    }
   ],
   "source": [
    "average_ratings = [np.average(ratings) for ratings in ratings_by_category]\n",
    "category_average_rating = dict(zip(categories, average_ratings))\n",
    "category_average_rating"
   ]
  },
  {
   "cell_type": "code",
   "execution_count": 22,
   "metadata": {},
   "outputs": [
    {
     "data": {
      "text/plain": [
       "F_onewayResult(statistic=44.27120279740581, pvalue=1.5216980457223744e-86)"
      ]
     },
     "execution_count": 22,
     "metadata": {},
     "output_type": "execute_result"
    }
   ],
   "source": [
    "anova_result = stats.f_oneway(*ratings_by_category)\n",
    "anova_result"
   ]
  },
  {
   "cell_type": "code",
   "execution_count": 31,
   "metadata": {},
   "outputs": [
    {
     "data": {
      "text/plain": [
       "F_onewayResult(statistic=20.32781307026106, pvalue=3.132350346815215e-34)"
      ]
     },
     "execution_count": 31,
     "metadata": {},
     "output_type": "execute_result"
    }
   ],
   "source": [
    "non_religion_charity_ratings = [charity_data[\"Rating\"] for charity_data in charities_data_by_category if charity_data.iloc[0][\"Category Name\"] != \"Religion\"]\n",
    "non_religion_anova_results = stats.f_oneway(*non_religion_charity_ratings)\n",
    "non_religion_anova_results\n"
   ]
  },
  {
   "cell_type": "code",
   "execution_count": 35,
   "metadata": {},
   "outputs": [],
   "source": [
    "n_minus_one_rating_lists = [[charity_data[\"Rating\"] for charity_data in charities_data_by_category if charity_data.iloc[0][\"Category Name\"] != category] for category in categories]\n"
   ]
  },
  {
   "cell_type": "code",
   "execution_count": 89,
   "metadata": {},
   "outputs": [
    {
     "data": {
      "text/plain": [
       "[F_onewayResult(statistic=42.6959974424621, pvalue=7.851642490337403e-75),\n",
       " F_onewayResult(statistic=43.01131010473556, pvalue=8.816282065706442e-76),\n",
       " F_onewayResult(statistic=51.79852676933562, pvalue=7.146701341618841e-92),\n",
       " F_onewayResult(statistic=40.061244533214555, pvalue=1.7219677735962766e-70),\n",
       " F_onewayResult(statistic=48.2531491578904, pvalue=1.6934218572185954e-85),\n",
       " F_onewayResult(statistic=48.66290902099352, pvalue=2.9529088192088863e-86),\n",
       " F_onewayResult(statistic=47.0353057175201, pvalue=2.5126486364378008e-83),\n",
       " F_onewayResult(statistic=20.32781307026106, pvalue=3.132350346815215e-34),\n",
       " F_onewayResult(statistic=47.10182898935228, pvalue=1.854450430734878e-83),\n",
       " F_onewayResult(statistic=49.69844820224886, pvalue=3.2006040386476066e-88),\n",
       " F_onewayResult(statistic=47.97201212730113, pvalue=4.151286731161476e-85)]"
      ]
     },
     "execution_count": 89,
     "metadata": {},
     "output_type": "execute_result"
    }
   ],
   "source": [
    "n_minus_one_anovas = [stats.f_oneway(*n_minus_one_rating_list) for n_minus_one_rating_list in n_minus_one_rating_lists]\n",
    "n_minus_one_anovas\n"
   ]
  },
  {
   "cell_type": "code",
   "execution_count": 91,
   "metadata": {},
   "outputs": [
    {
     "data": {
      "text/plain": [
       "3.132350346815215e-34"
      ]
     },
     "execution_count": 91,
     "metadata": {},
     "output_type": "execute_result"
    }
   ],
   "source": [
    "p_values = [n_minus_one_anova.pvalue for n_minus_one_anova in n_minus_one_anovas]\n",
    "least_different_p_value = np.max(p_values)\n",
    "least_different_p_value"
   ]
  },
  {
   "cell_type": "code",
   "execution_count": 44,
   "metadata": {},
   "outputs": [
    {
     "data": {
      "text/plain": [
       "'Religion'"
      ]
     },
     "execution_count": 44,
     "metadata": {},
     "output_type": "execute_result"
    }
   ],
   "source": [
    "most_different_category = [categories[index] for index, p_value in enumerate(p_values) if p_value == least_different_p_value][0]\n",
    "most_different_category"
   ]
  },
  {
   "cell_type": "code",
   "execution_count": 76,
   "metadata": {},
   "outputs": [
    {
     "data": {
      "text/plain": [
       "[F_onewayResult(statistic=19.56641685239535, pvalue=2.2485361213289832e-29),\n",
       " F_onewayResult(statistic=14.066432838302005, pvalue=1.724861102382842e-20),\n",
       " F_onewayResult(statistic=21.43831021716523, pvalue=1.5827695037544036e-32),\n",
       " F_onewayResult(statistic=16.13820301941841, pvalue=7.229495804908632e-24),\n",
       " F_onewayResult(statistic=22.233461597650216, pvalue=7.640230319106455e-34),\n",
       " F_onewayResult(statistic=22.774194761676434, pvalue=9.85865215677839e-35),\n",
       " F_onewayResult(statistic=21.60229844049493, pvalue=8.10549539295136e-33),\n",
       " F_onewayResult(statistic=21.671113485346613, pvalue=6.221962677003417e-33),\n",
       " F_onewayResult(statistic=22.25538472534325, pvalue=6.776971208851882e-34),\n",
       " F_onewayResult(statistic=21.13819761360421, pvalue=4.5473775812071657e-32)]"
      ]
     },
     "execution_count": 76,
     "metadata": {},
     "output_type": "execute_result"
    }
   ],
   "source": [
    "non_religious_categories = [category for category in categories if category != \"Religion\"]\n",
    "non_religious_charity_data_by_cat = [charity_df[charity_df[\"Category Name\"] == category] for category in non_religious_categories]\n",
    "\n",
    "\n",
    "next_rating_lists = [[charity_data[\"Rating\"] for charity_data in non_religious_charity_data_by_cat if charity_data.iloc[0][\"Category Name\"] != category] for category in non_religious_categories]\n",
    "next_rating_anovas = [stats.f_oneway(*next_rating_list) for next_rating_list in next_rating_lists]\n",
    "next_rating_anovas\n"
   ]
  },
  {
   "cell_type": "code",
   "execution_count": 57,
   "metadata": {},
   "outputs": [
    {
     "data": {
      "text/plain": [
       "1.724861102382842e-20"
      ]
     },
     "execution_count": 57,
     "metadata": {},
     "output_type": "execute_result"
    }
   ],
   "source": [
    "next_p_values = [next_rating_anova.pvalue for next_rating_anova in next_rating_anovas]\n",
    "\n",
    "next_least_different_p_value = np.max(next_p_values)\n",
    "next_least_different_p_value"
   ]
  },
  {
   "cell_type": "code",
   "execution_count": 59,
   "metadata": {},
   "outputs": [
    {
     "data": {
      "text/plain": [
       "'Arts, Culture, Humanities'"
      ]
     },
     "execution_count": 59,
     "metadata": {},
     "output_type": "execute_result"
    }
   ],
   "source": [
    "most_different_category = [non_religious_categories[index] for index, p_value in enumerate(next_p_values) if p_value == next_least_different_p_value][0]\n",
    "\n",
    "most_different_category"
   ]
  },
  {
   "cell_type": "code",
   "execution_count": 65,
   "metadata": {},
   "outputs": [],
   "source": [
    "arts_ratings = charity_df[charity_df[\"Category Name\"] == most_different_category][\"Rating\"]"
   ]
  },
  {
   "cell_type": "code",
   "execution_count": 66,
   "metadata": {},
   "outputs": [
    {
     "name": "stderr",
     "output_type": "stream",
     "text": [
      "/usr/local/anaconda3/envs/PythonData/lib/python3.6/site-packages/scipy/stats/stats.py:1713: FutureWarning: Using a non-tuple sequence for multidimensional indexing is deprecated; use `arr[tuple(seq)]` instead of `arr[seq]`. In the future this will be interpreted as an array index, `arr[np.array(seq)]`, which will result either in an error or a different result.\n",
      "  return np.add.reduce(sorted[indexer] * weights, axis=axis) / sumval\n"
     ]
    },
    {
     "data": {
      "text/plain": [
       "<matplotlib.axes._subplots.AxesSubplot at 0x1a1fe9b7f0>"
      ]
     },
     "execution_count": 66,
     "metadata": {},
     "output_type": "execute_result"
    },
    {
     "data": {
      "image/png": "[encoded data removed]",
      "text/plain": [
       "<Figure size 432x288 with 1 Axes>"
      ]
     },
     "metadata": {
      "needs_background": "light"
     },
     "output_type": "display_data"
    }
   ],
   "source": [
    "sns.distplot(arts_ratings)"
   ]
  },
  {
   "cell_type": "code",
   "execution_count": 70,
   "metadata": {},
   "outputs": [
    {
     "name": "stderr",
     "output_type": "stream",
     "text": [
      "/usr/local/anaconda3/envs/PythonData/lib/python3.6/site-packages/scipy/stats/stats.py:1713: FutureWarning: Using a non-tuple sequence for multidimensional indexing is deprecated; use `arr[tuple(seq)]` instead of `arr[seq]`. In the future this will be interpreted as an array index, `arr[np.array(seq)]`, which will result either in an error or a different result.\n",
      "  return np.add.reduce(sorted[indexer] * weights, axis=axis) / sumval\n"
     ]
    },
    {
     "data": {
      "image/png": "[encoded data removed]",
      "text/plain": [
       "<Figure size 432x288 with 1 Axes>"
      ]
     },
     "metadata": {
      "needs_background": "light"
     },
     "output_type": "display_data"
    }
   ],
   "source": [
    "for ratings in ratings_by_category:\n",
    "    sns.distplot(ratings)"
   ]
  },
  {
   "cell_type": "code",
   "execution_count": 78,
   "metadata": {},
   "outputs": [
    {
     "name": "stderr",
     "output_type": "stream",
     "text": [
      "/usr/local/anaconda3/envs/PythonData/lib/python3.6/site-packages/scipy/stats/stats.py:1713: FutureWarning: Using a non-tuple sequence for multidimensional indexing is deprecated; use `arr[tuple(seq)]` instead of `arr[seq]`. In the future this will be interpreted as an array index, `arr[np.array(seq)]`, which will result either in an error or a different result.\n",
      "  return np.add.reduce(sorted[indexer] * weights, axis=axis) / sumval\n"
     ]
    },
    {
     "data": {
      "image/png": "[encoded data removed]",
      "text/plain": [
       "<Figure size 432x288 with 1 Axes>"
      ]
     },
     "metadata": {
      "needs_background": "light"
     },
     "output_type": "display_data"
    }
   ],
   "source": [
    "for ratings in [charity_data[\"Rating\"] for charity_data in non_religious_charity_data_by_cat]:\n",
    "    sns.distplot(ratings)"
   ]
  },
  {
   "cell_type": "code",
   "execution_count": 106,
   "metadata": {},
   "outputs": [],
   "source": [
    "remaining_data = charity_df[~charity_df[\"Category Name\"].isin([\"Religion\", \"Arts, Culture, Humanities\"])]\n"
   ]
  },
  {
   "cell_type": "code",
   "execution_count": 109,
   "metadata": {},
   "outputs": [
    {
     "data": {
      "text/plain": [
       "['Human Services',\n",
       " 'Health',\n",
       " 'Community Development',\n",
       " 'Education',\n",
       " 'International',\n",
       " 'Animals',\n",
       " 'Environment',\n",
       " 'Human and Civil Rights',\n",
       " 'Research and Public Policy']"
      ]
     },
     "execution_count": 109,
     "metadata": {},
     "output_type": "execute_result"
    }
   ],
   "source": [
    "remaining_data.head()\n",
    "remaining_categories = [category for category in categories if category not in [\"Religion\", \"Arts, Culture, Humanities\"]]\n",
    "remaining_categories\n"
   ]
  },
  {
   "cell_type": "code",
   "execution_count": null,
   "metadata": {},
   "outputs": [],
   "source": []
  }
 ],
 "metadata": {
  "kernelspec": {
   "display_name": "Python (PythonData)",
   "language": "python",
   "name": "pythondata"
  },
  "language_info": {
   "codemirror_mode": {
    "name": "ipython",
    "version": 3
   },
   "file_extension": ".py",
   "mimetype": "text/x-python",
   "name": "python",
   "nbconvert_exporter": "python",
   "pygments_lexer": "ipython3",
   "version": "3.6.6"
  }
 },
 "nbformat": 4,
 "nbformat_minor": 2
}
