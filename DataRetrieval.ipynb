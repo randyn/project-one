{
 "cells": [
  {
   "cell_type": "code",
   "execution_count": 4,
   "metadata": {},
   "outputs": [],
   "source": [
    "import pandas as pd\n",
    "import numpy as np\n",
    "import scipy\n",
    "from config import api_key, app_id\n",
    "import requests"
   ]
  },
  {
   "cell_type": "code",
   "execution_count": 5,
   "metadata": {},
   "outputs": [],
   "source": [
    "base_organization_url = \"https://api.data.charitynavigator.org/v2/Organizations\""
   ]
  },
  {
   "cell_type": "code",
   "execution_count": 12,
   "metadata": {},
   "outputs": [],
   "source": [
    "required_api_params = {\n",
    "    \"app_id\": app_id,\n",
    "    \"api_key\": api_key\n",
    "}"
   ]
  },
  {
   "cell_type": "code",
   "execution_count": 14,
   "metadata": {},
   "outputs": [],
   "source": [
    "size_range_options = {\n",
    "    \"UP_TO_3.5MM\": 0,\n",
    "    \"3.5MM_TO_13.5MM\": 1,\n",
    "    \"13.5MM_AND_UP\": 2\n",
    "}\n",
    "\n",
    "default_size_search_params = {\n",
    "    \"app_id\": app_id,\n",
    "    \"api_key\": api_key,\n",
    "    \"sizeRange\": size_range_options[\"UP_TO_3.5MM\"],\n",
    "    \"rated\": True\n",
    "}"
   ]
  },
  {
   "cell_type": "code",
   "execution_count": null,
   "metadata": {},
   "outputs": [],
   "source": []
  },
  {
   "cell_type": "code",
   "execution_count": 11,
   "metadata": {},
   "outputs": [],
   "source": [
    "def createOrganizationSearchURL(size_search_params=default_size_search_params):\n",
    "    query_params = [f\"{param}={value}\" for (param, value) in size_search_params.items()]\n",
    "    query_string = \"&\".join(query_params)\n",
    "    url = f\"{base_organization_url}?{query_string}\"\n",
    "    return url\n"
   ]
  },
  {
   "cell_type": "code",
   "execution_count": null,
   "metadata": {},
   "outputs": [],
   "source": []
  }
 ],
 "metadata": {
  "kernelspec": {
   "display_name": "Python (PythonData)",
   "language": "python",
   "name": "pythondata"
  },
  "language_info": {
   "codemirror_mode": {
    "name": "ipython",
    "version": 3
   },
   "file_extension": ".py",
   "mimetype": "text/x-python",
   "name": "python",
   "nbconvert_exporter": "python",
   "pygments_lexer": "ipython3",
   "version": "3.6.6"
  }
 },
 "nbformat": 4,
 "nbformat_minor": 2
}
